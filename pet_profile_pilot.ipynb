{
 "cells": [
  {
   "cell_type": "code",
   "execution_count": 2,
   "metadata": {},
   "outputs": [],
   "source": [
    "import snowflake.connector\n",
    "import pandas as pd\n",
    "import seaborn as sns\n",
    "import plotly.express as px\n",
    "import warnings\n",
    "import numpy as np\n",
    "import matplotlib.pyplot as plt\n",
    "import os\n",
    "usr = os.environ['svc_user']\n",
    "pwd = os.environ['svc_pwd']\n",
    "\n",
    "warnings.filterwarnings('ignore')"
   ]
  },
  {
   "cell_type": "code",
   "execution_count": 3,
   "metadata": {},
   "outputs": [],
   "source": [
    "def sf_connect():\n",
    "    con = snowflake.connector.connect(  \n",
    "        account = 'chewy.us-east-1',\n",
    "        user = usr,\n",
    "        password=pwd,\n",
    "        autocommit = False,\n",
    "        database= 'EDLDB',\n",
    "        warehouse = 'IT_WH') #EDLDB_DSE_DEV\n",
    "    return con"
   ]
  },
  {
   "cell_type": "code",
   "execution_count": 4,
   "metadata": {},
   "outputs": [],
   "source": [
    "def exec_qry_batch(qry,numofdf=1):\n",
    "    con = sf_connect()\n",
    "    cur = con.cursor()\n",
    "    try:\n",
    "        batches = []\n",
    "        cur.execute(qry,timeout=1200)\n",
    "        for df in cur.fetch_pandas_batches():\n",
    "            if((len(batches)<=numofdf) and (df.shape[0]>0)):\n",
    "                batches.append(df)\n",
    "            else:\n",
    "                break\n",
    "        return batches   \n",
    "    except Exception as e:\n",
    "        print(e)\n",
    "    finally:\n",
    "        cur.close()"
   ]
  },
  {
   "cell_type": "code",
   "execution_count": 5,
   "metadata": {},
   "outputs": [],
   "source": [
    "def exec_qry_all(qry):\n",
    "    con = sf_connect()\n",
    "    cur = con.cursor()\n",
    "    try:\n",
    "        cur.execute(qry,timeout=1200)\n",
    "        return cur.fetch_pandas_all()   \n",
    "    except Exception as e:\n",
    "        print(e)\n",
    "    finally:\n",
    "        cur.close()"
   ]
  },
  {
   "cell_type": "code",
   "execution_count": 6,
   "metadata": {},
   "outputs": [],
   "source": [
    "qry = \"\"\"SELECT *\n",
    "FROM \"EDLDB\".\"CDM\".\"PET_PROFILE\" SAMPLE (10) SEED (45)\n",
    "WHERE PET_TYPE = 'Dog' and PET_BREED_SIZE_TYPE IS NOT NULL\"\"\""
   ]
  },
  {
   "cell_type": "code",
   "execution_count": 7,
   "metadata": {},
   "outputs": [],
   "source": [
    "qry1 = \"\"\"SELECT *\n",
    "FROM \"EDLDB\".\"CDM\".\"PET_PROFILE\"\n",
    "WHERE PET_TYPE = 'Dog' and PET_BREED_SIZE_TYPE IS NOT NULL\n",
    "QUALIFY ROW_NUMBER() OVER (ORDER BY RANDOM()) <= 1000000\n",
    "\"\"\""
   ]
  },
  {
   "cell_type": "markdown",
   "metadata": {},
   "source": [
    "---"
   ]
  },
  {
   "cell_type": "markdown",
   "metadata": {},
   "source": [
    "### Dataset\n",
    "\n",
    "Sampling with 10% data (~1.2M) with Dog as the only pet type"
   ]
  },
  {
   "cell_type": "code",
   "execution_count": 8,
   "metadata": {},
   "outputs": [
    {
     "data": {
      "text/html": [
       "<div>\n",
       "<style scoped>\n",
       "    .dataframe tbody tr th:only-of-type {\n",
       "        vertical-align: middle;\n",
       "    }\n",
       "\n",
       "    .dataframe tbody tr th {\n",
       "        vertical-align: top;\n",
       "    }\n",
       "\n",
       "    .dataframe thead th {\n",
       "        text-align: right;\n",
       "    }\n",
       "</style>\n",
       "<table border=\"1\" class=\"dataframe\">\n",
       "  <thead>\n",
       "    <tr style=\"text-align: right;\">\n",
       "      <th></th>\n",
       "      <th>PET_PROFILE_ID</th>\n",
       "      <th>CUSTOMER_ID</th>\n",
       "      <th>SUBMITTED_BY_CUSTOMER</th>\n",
       "      <th>SUBMITTED_BY_LOGON</th>\n",
       "      <th>PET_NAME</th>\n",
       "      <th>PET_TYPE</th>\n",
       "      <th>PET_BREED</th>\n",
       "      <th>PET_BREED_SIZE_TYPE</th>\n",
       "      <th>GENDER</th>\n",
       "      <th>WEIGHT_TYPE</th>\n",
       "      <th>...</th>\n",
       "      <th>TIME_UPDATED</th>\n",
       "      <th>WEIGHT</th>\n",
       "      <th>ALLERGY_COUNT</th>\n",
       "      <th>PHOTO_COUNT</th>\n",
       "      <th>MKTG_SAFE</th>\n",
       "      <th>PET_BREED_ID</th>\n",
       "      <th>PET_TYPE_ID</th>\n",
       "      <th>PET_NEW</th>\n",
       "      <th>FIRST_BIRTHDAY</th>\n",
       "      <th>SEVEN_BIRTHDAY</th>\n",
       "    </tr>\n",
       "  </thead>\n",
       "  <tbody>\n",
       "    <tr>\n",
       "      <th>0</th>\n",
       "      <td>79265222</td>\n",
       "      <td>18720992</td>\n",
       "      <td>True</td>\n",
       "      <td>None</td>\n",
       "      <td>Floe Rida</td>\n",
       "      <td>Dog</td>\n",
       "      <td>Labrador Retriever</td>\n",
       "      <td>L</td>\n",
       "      <td>MALE</td>\n",
       "      <td>None</td>\n",
       "      <td>...</td>\n",
       "      <td>2021-06-16 04:36:10.601</td>\n",
       "      <td>63.0</td>\n",
       "      <td>0</td>\n",
       "      <td>0</td>\n",
       "      <td>False</td>\n",
       "      <td>461</td>\n",
       "      <td>1</td>\n",
       "      <td>False</td>\n",
       "      <td>2009-11-30</td>\n",
       "      <td>2015-11-30</td>\n",
       "    </tr>\n",
       "    <tr>\n",
       "      <th>1</th>\n",
       "      <td>79527574</td>\n",
       "      <td>108589065</td>\n",
       "      <td>True</td>\n",
       "      <td>None</td>\n",
       "      <td>Cleo</td>\n",
       "      <td>Dog</td>\n",
       "      <td>American Staffordshire Terrier</td>\n",
       "      <td>L</td>\n",
       "      <td>FMLE</td>\n",
       "      <td>None</td>\n",
       "      <td>...</td>\n",
       "      <td>2021-06-16 04:36:10.601</td>\n",
       "      <td>68.0</td>\n",
       "      <td>0</td>\n",
       "      <td>0</td>\n",
       "      <td>True</td>\n",
       "      <td>357</td>\n",
       "      <td>1</td>\n",
       "      <td>False</td>\n",
       "      <td>2018-02-05</td>\n",
       "      <td>2024-02-05</td>\n",
       "    </tr>\n",
       "    <tr>\n",
       "      <th>2</th>\n",
       "      <td>76640659</td>\n",
       "      <td>5574446</td>\n",
       "      <td>True</td>\n",
       "      <td>None</td>\n",
       "      <td>Dutch</td>\n",
       "      <td>Dog</td>\n",
       "      <td>UNKNOWN</td>\n",
       "      <td>UNK</td>\n",
       "      <td>MALE</td>\n",
       "      <td>None</td>\n",
       "      <td>...</td>\n",
       "      <td>2021-06-16 04:36:10.601</td>\n",
       "      <td>68.0</td>\n",
       "      <td>0</td>\n",
       "      <td>3</td>\n",
       "      <td>False</td>\n",
       "      <td>-1</td>\n",
       "      <td>1</td>\n",
       "      <td>False</td>\n",
       "      <td>2020-10-09</td>\n",
       "      <td>2026-10-09</td>\n",
       "    </tr>\n",
       "    <tr>\n",
       "      <th>3</th>\n",
       "      <td>2108898</td>\n",
       "      <td>44144739</td>\n",
       "      <td>True</td>\n",
       "      <td>None</td>\n",
       "      <td>Little Dude</td>\n",
       "      <td>Dog</td>\n",
       "      <td>UNKNOWN</td>\n",
       "      <td>UNK</td>\n",
       "      <td>UNKN</td>\n",
       "      <td>None</td>\n",
       "      <td>...</td>\n",
       "      <td>2018-10-11 13:48:32.971</td>\n",
       "      <td>0.0</td>\n",
       "      <td>0</td>\n",
       "      <td>0</td>\n",
       "      <td>True</td>\n",
       "      <td>-1</td>\n",
       "      <td>1</td>\n",
       "      <td>False</td>\n",
       "      <td>None</td>\n",
       "      <td>None</td>\n",
       "    </tr>\n",
       "    <tr>\n",
       "      <th>4</th>\n",
       "      <td>49716673</td>\n",
       "      <td>41539489</td>\n",
       "      <td>True</td>\n",
       "      <td>None</td>\n",
       "      <td>Shug</td>\n",
       "      <td>Dog</td>\n",
       "      <td>Pug</td>\n",
       "      <td>SM</td>\n",
       "      <td>MALE</td>\n",
       "      <td>None</td>\n",
       "      <td>...</td>\n",
       "      <td>2021-11-02 16:25:11.425</td>\n",
       "      <td>20.0</td>\n",
       "      <td>0</td>\n",
       "      <td>0</td>\n",
       "      <td>False</td>\n",
       "      <td>501</td>\n",
       "      <td>1</td>\n",
       "      <td>False</td>\n",
       "      <td>2016-11-02</td>\n",
       "      <td>2022-11-02</td>\n",
       "    </tr>\n",
       "  </tbody>\n",
       "</table>\n",
       "<p>5 rows × 29 columns</p>\n",
       "</div>"
      ],
      "text/plain": [
       "   PET_PROFILE_ID  CUSTOMER_ID  SUBMITTED_BY_CUSTOMER SUBMITTED_BY_LOGON  \\\n",
       "0        79265222     18720992                   True               None   \n",
       "1        79527574    108589065                   True               None   \n",
       "2        76640659      5574446                   True               None   \n",
       "3         2108898     44144739                   True               None   \n",
       "4        49716673     41539489                   True               None   \n",
       "\n",
       "      PET_NAME PET_TYPE                       PET_BREED PET_BREED_SIZE_TYPE  \\\n",
       "0    Floe Rida      Dog              Labrador Retriever                   L   \n",
       "1         Cleo      Dog  American Staffordshire Terrier                   L   \n",
       "2        Dutch      Dog                         UNKNOWN                 UNK   \n",
       "3  Little Dude      Dog                         UNKNOWN                 UNK   \n",
       "4         Shug      Dog                             Pug                  SM   \n",
       "\n",
       "  GENDER WEIGHT_TYPE  ...            TIME_UPDATED WEIGHT ALLERGY_COUNT  \\\n",
       "0   MALE        None  ... 2021-06-16 04:36:10.601   63.0             0   \n",
       "1   FMLE        None  ... 2021-06-16 04:36:10.601   68.0             0   \n",
       "2   MALE        None  ... 2021-06-16 04:36:10.601   68.0             0   \n",
       "3   UNKN        None  ... 2018-10-11 13:48:32.971    0.0             0   \n",
       "4   MALE        None  ... 2021-11-02 16:25:11.425   20.0             0   \n",
       "\n",
       "  PHOTO_COUNT MKTG_SAFE PET_BREED_ID PET_TYPE_ID PET_NEW FIRST_BIRTHDAY  \\\n",
       "0           0     False          461           1   False     2009-11-30   \n",
       "1           0      True          357           1   False     2018-02-05   \n",
       "2           3     False           -1           1   False     2020-10-09   \n",
       "3           0      True           -1           1   False           None   \n",
       "4           0     False          501           1   False     2016-11-02   \n",
       "\n",
       "  SEVEN_BIRTHDAY  \n",
       "0     2015-11-30  \n",
       "1     2024-02-05  \n",
       "2     2026-10-09  \n",
       "3           None  \n",
       "4     2022-11-02  \n",
       "\n",
       "[5 rows x 29 columns]"
      ]
     },
     "execution_count": 8,
     "metadata": {},
     "output_type": "execute_result"
    }
   ],
   "source": [
    "df = exec_qry_all(qry1)\n",
    "df.head()"
   ]
  },
  {
   "cell_type": "code",
   "execution_count": 9,
   "metadata": {},
   "outputs": [
    {
     "name": "stdout",
     "output_type": "stream",
     "text": [
      "Columns :\n",
      " Index(['PET_PROFILE_ID', 'CUSTOMER_ID', 'SUBMITTED_BY_CUSTOMER',\n",
      "       'SUBMITTED_BY_LOGON', 'PET_NAME', 'PET_TYPE', 'PET_BREED',\n",
      "       'PET_BREED_SIZE_TYPE', 'GENDER', 'WEIGHT_TYPE', 'SIZE_TYPE', 'BIRTHDAY',\n",
      "       'BIRTHDAY_ESTIMATED', 'LIFE_STAGE', 'ADOPTED', 'ADOPTION_DATE',\n",
      "       'STATUS', 'STATUS_REASON', 'TIME_CREATED', 'TIME_UPDATED', 'WEIGHT',\n",
      "       'ALLERGY_COUNT', 'PHOTO_COUNT', 'MKTG_SAFE', 'PET_BREED_ID',\n",
      "       'PET_TYPE_ID', 'PET_NEW', 'FIRST_BIRTHDAY', 'SEVEN_BIRTHDAY'],\n",
      "      dtype='object')\n",
      "Size:  1000000\n"
     ]
    }
   ],
   "source": [
    "print(\"Columns :\\n\" ,df.columns)\n",
    "print(\"Size: \",len(df))"
   ]
  },
  {
   "cell_type": "code",
   "execution_count": 10,
   "metadata": {},
   "outputs": [
    {
     "data": {
      "text/plain": [
       "L      28.05\n",
       "SM     19.58\n",
       "M      18.35\n",
       "XS     14.81\n",
       "UNK    14.13\n",
       "XL      2.84\n",
       "G       2.23\n",
       "Name: PET_BREED_SIZE_TYPE, dtype: float64"
      ]
     },
     "execution_count": 10,
     "metadata": {},
     "output_type": "execute_result"
    }
   ],
   "source": [
    "df['PET_BREED_SIZE_TYPE'].value_counts(normalize = True).mul(100).round(2)"
   ]
  },
  {
   "cell_type": "markdown",
   "metadata": {},
   "source": [
    "#### Null Values\n",
    "Gaps in our data"
   ]
  },
  {
   "cell_type": "code",
   "execution_count": 11,
   "metadata": {},
   "outputs": [
    {
     "data": {
      "text/html": [
       "<div>\n",
       "<style scoped>\n",
       "    .dataframe tbody tr th:only-of-type {\n",
       "        vertical-align: middle;\n",
       "    }\n",
       "\n",
       "    .dataframe tbody tr th {\n",
       "        vertical-align: top;\n",
       "    }\n",
       "\n",
       "    .dataframe thead th {\n",
       "        text-align: right;\n",
       "    }\n",
       "</style>\n",
       "<table border=\"1\" class=\"dataframe\">\n",
       "  <thead>\n",
       "    <tr style=\"text-align: right;\">\n",
       "      <th></th>\n",
       "      <th>Columns</th>\n",
       "      <th>Null values</th>\n",
       "    </tr>\n",
       "  </thead>\n",
       "  <tbody>\n",
       "    <tr>\n",
       "      <th>0</th>\n",
       "      <td>PET_PROFILE_ID</td>\n",
       "      <td>0</td>\n",
       "    </tr>\n",
       "    <tr>\n",
       "      <th>1</th>\n",
       "      <td>CUSTOMER_ID</td>\n",
       "      <td>0</td>\n",
       "    </tr>\n",
       "    <tr>\n",
       "      <th>2</th>\n",
       "      <td>SUBMITTED_BY_CUSTOMER</td>\n",
       "      <td>0</td>\n",
       "    </tr>\n",
       "    <tr>\n",
       "      <th>3</th>\n",
       "      <td>SUBMITTED_BY_LOGON</td>\n",
       "      <td>945700</td>\n",
       "    </tr>\n",
       "    <tr>\n",
       "      <th>4</th>\n",
       "      <td>PET_NAME</td>\n",
       "      <td>0</td>\n",
       "    </tr>\n",
       "    <tr>\n",
       "      <th>5</th>\n",
       "      <td>PET_TYPE</td>\n",
       "      <td>0</td>\n",
       "    </tr>\n",
       "    <tr>\n",
       "      <th>6</th>\n",
       "      <td>PET_BREED</td>\n",
       "      <td>0</td>\n",
       "    </tr>\n",
       "    <tr>\n",
       "      <th>7</th>\n",
       "      <td>PET_BREED_SIZE_TYPE</td>\n",
       "      <td>0</td>\n",
       "    </tr>\n",
       "    <tr>\n",
       "      <th>8</th>\n",
       "      <td>GENDER</td>\n",
       "      <td>0</td>\n",
       "    </tr>\n",
       "    <tr>\n",
       "      <th>9</th>\n",
       "      <td>WEIGHT_TYPE</td>\n",
       "      <td>997637</td>\n",
       "    </tr>\n",
       "    <tr>\n",
       "      <th>10</th>\n",
       "      <td>SIZE_TYPE</td>\n",
       "      <td>75547</td>\n",
       "    </tr>\n",
       "    <tr>\n",
       "      <th>11</th>\n",
       "      <td>BIRTHDAY</td>\n",
       "      <td>101973</td>\n",
       "    </tr>\n",
       "    <tr>\n",
       "      <th>12</th>\n",
       "      <td>BIRTHDAY_ESTIMATED</td>\n",
       "      <td>414046</td>\n",
       "    </tr>\n",
       "    <tr>\n",
       "      <th>13</th>\n",
       "      <td>LIFE_STAGE</td>\n",
       "      <td>277123</td>\n",
       "    </tr>\n",
       "    <tr>\n",
       "      <th>14</th>\n",
       "      <td>ADOPTED</td>\n",
       "      <td>541082</td>\n",
       "    </tr>\n",
       "    <tr>\n",
       "      <th>15</th>\n",
       "      <td>ADOPTION_DATE</td>\n",
       "      <td>917618</td>\n",
       "    </tr>\n",
       "    <tr>\n",
       "      <th>16</th>\n",
       "      <td>STATUS</td>\n",
       "      <td>0</td>\n",
       "    </tr>\n",
       "    <tr>\n",
       "      <th>17</th>\n",
       "      <td>STATUS_REASON</td>\n",
       "      <td>938150</td>\n",
       "    </tr>\n",
       "    <tr>\n",
       "      <th>18</th>\n",
       "      <td>TIME_CREATED</td>\n",
       "      <td>0</td>\n",
       "    </tr>\n",
       "    <tr>\n",
       "      <th>19</th>\n",
       "      <td>TIME_UPDATED</td>\n",
       "      <td>0</td>\n",
       "    </tr>\n",
       "    <tr>\n",
       "      <th>20</th>\n",
       "      <td>WEIGHT</td>\n",
       "      <td>22465</td>\n",
       "    </tr>\n",
       "    <tr>\n",
       "      <th>21</th>\n",
       "      <td>ALLERGY_COUNT</td>\n",
       "      <td>0</td>\n",
       "    </tr>\n",
       "    <tr>\n",
       "      <th>22</th>\n",
       "      <td>PHOTO_COUNT</td>\n",
       "      <td>0</td>\n",
       "    </tr>\n",
       "    <tr>\n",
       "      <th>23</th>\n",
       "      <td>MKTG_SAFE</td>\n",
       "      <td>0</td>\n",
       "    </tr>\n",
       "    <tr>\n",
       "      <th>24</th>\n",
       "      <td>PET_BREED_ID</td>\n",
       "      <td>0</td>\n",
       "    </tr>\n",
       "    <tr>\n",
       "      <th>25</th>\n",
       "      <td>PET_TYPE_ID</td>\n",
       "      <td>0</td>\n",
       "    </tr>\n",
       "    <tr>\n",
       "      <th>26</th>\n",
       "      <td>PET_NEW</td>\n",
       "      <td>0</td>\n",
       "    </tr>\n",
       "    <tr>\n",
       "      <th>27</th>\n",
       "      <td>FIRST_BIRTHDAY</td>\n",
       "      <td>101978</td>\n",
       "    </tr>\n",
       "    <tr>\n",
       "      <th>28</th>\n",
       "      <td>SEVEN_BIRTHDAY</td>\n",
       "      <td>101978</td>\n",
       "    </tr>\n",
       "  </tbody>\n",
       "</table>\n",
       "</div>"
      ],
      "text/plain": [
       "                  Columns  Null values\n",
       "0          PET_PROFILE_ID            0\n",
       "1             CUSTOMER_ID            0\n",
       "2   SUBMITTED_BY_CUSTOMER            0\n",
       "3      SUBMITTED_BY_LOGON       945700\n",
       "4                PET_NAME            0\n",
       "5                PET_TYPE            0\n",
       "6               PET_BREED            0\n",
       "7     PET_BREED_SIZE_TYPE            0\n",
       "8                  GENDER            0\n",
       "9             WEIGHT_TYPE       997637\n",
       "10              SIZE_TYPE        75547\n",
       "11               BIRTHDAY       101973\n",
       "12     BIRTHDAY_ESTIMATED       414046\n",
       "13             LIFE_STAGE       277123\n",
       "14                ADOPTED       541082\n",
       "15          ADOPTION_DATE       917618\n",
       "16                 STATUS            0\n",
       "17          STATUS_REASON       938150\n",
       "18           TIME_CREATED            0\n",
       "19           TIME_UPDATED            0\n",
       "20                 WEIGHT        22465\n",
       "21          ALLERGY_COUNT            0\n",
       "22            PHOTO_COUNT            0\n",
       "23              MKTG_SAFE            0\n",
       "24           PET_BREED_ID            0\n",
       "25            PET_TYPE_ID            0\n",
       "26                PET_NEW            0\n",
       "27         FIRST_BIRTHDAY       101978\n",
       "28         SEVEN_BIRTHDAY       101978"
      ]
     },
     "execution_count": 11,
     "metadata": {},
     "output_type": "execute_result"
    }
   ],
   "source": [
    "# null_val = [print(col,df[col].isnull().sum()) for col in df.columns]\n",
    "n,c = [], []\n",
    "for col in df.columns:                  \n",
    "    c.append(col), n.append(df[col].isnull().sum())\n",
    "pd.DataFrame({'Columns': c, 'Null values': n})"
   ]
  },
  {
   "cell_type": "code",
   "execution_count": 12,
   "metadata": {},
   "outputs": [
    {
     "data": {
      "image/png": "[encoded data removed]",
      "text/plain": [
       "<Figure size 576x576 with 1 Axes>"
      ]
     },
     "metadata": {
      "needs_background": "light"
     },
     "output_type": "display_data"
    }
   ],
   "source": [
    "f, ax = plt.subplots(figsize=(8, 8))\n",
    "sns.scatterplot(x = \"PET_BREED_SIZE_TYPE\", y = \"WEIGHT\", hue=\"GENDER\",\n",
    "                linewidth=0,\n",
    "                data=df, ax=ax).set_title(\"PET SIZE TYPE vs WEIGHT\")\n",
    "plt.axhline(350, color = 'black')\n",
    "plt.show()"
   ]
  },
  {
   "cell_type": "markdown",
   "metadata": {},
   "source": [
    "Calculating what % of users did not enter complete data"
   ]
  },
  {
   "cell_type": "code",
   "execution_count": 13,
   "metadata": {},
   "outputs": [
    {
     "name": "stdout",
     "output_type": "stream",
     "text": [
      "% not entered Pet Breed -  14.4\n",
      "% not entered Pet Gender -  10.69\n",
      "% not entered Pet Weight -  12.72\n",
      "% not entered All 3 -  6.84\n",
      "\n",
      "% not entered Pet Birthday -  10.39\n"
     ]
    }
   ],
   "source": [
    "total_unique_cust = len(df['CUSTOMER_ID'].unique())\n",
    "unkn_breeds = len(df[df['PET_BREED'] == 'UNKNOWN']['CUSTOMER_ID'].unique())\n",
    "unkn_gender = len(df[df['GENDER'] == 'UNKN']['CUSTOMER_ID'].unique())\n",
    "zero_weight = len(df[(df['WEIGHT'] == 0.0) | (df['WEIGHT'] >= 400)]['CUSTOMER_ID'].unique())\n",
    "unkn_all = len(df[(df['PET_BREED'] == 'UNKNOWN') & (df['GENDER'] == 'UNKN') & ((df['WEIGHT'] == 0.0) | (df['WEIGHT'] >= 400))]['CUSTOMER_ID'].unique())\n",
    "unkn_bday = len(df[df['BIRTHDAY'].isnull()]['CUSTOMER_ID'].unique())\n",
    "\n",
    "print(\"% not entered Pet Breed - \",np.round((unkn_breeds/total_unique_cust)*100,2))\n",
    "print(\"% not entered Pet Gender - \",np.round((unkn_gender/total_unique_cust)*100,2))\n",
    "print(\"% not entered Pet Weight - \",np.round((zero_weight/total_unique_cust)*100,2))\n",
    "print(\"% not entered All 3 - \",np.round((unkn_all/total_unique_cust)*100,2))\n",
    "print(\"\\n% not entered Pet Birthday - \",np.round((unkn_bday/total_unique_cust)*100,2))"
   ]
  },
  {
   "cell_type": "markdown",
   "metadata": {},
   "source": [
    "Cleaning data to remove incomplete values and filtering by WEIGHT < 400"
   ]
  },
  {
   "cell_type": "code",
   "execution_count": 14,
   "metadata": {},
   "outputs": [
    {
     "name": "stdout",
     "output_type": "stream",
     "text": [
      "Size: 788951\n"
     ]
    }
   ],
   "source": [
    "df = df[(df['PET_BREED'] != 'UNKNOWN')&(df['GENDER'] != 'UNKN')&(df['WEIGHT'] > 0.0)&(df['BIRTHDAY'].notnull())]\n",
    "df = df[df['WEIGHT'] < 400]\n",
    "print(\"Size:\",len(df))"
   ]
  },
  {
   "cell_type": "code",
   "execution_count": 15,
   "metadata": {},
   "outputs": [
    {
     "data": {
      "image/png": "[encoded data removed]",
      "text/plain": [
       "<Figure size 576x576 with 1 Axes>"
      ]
     },
     "metadata": {
      "needs_background": "light"
     },
     "output_type": "display_data"
    }
   ],
   "source": [
    "f, ax = plt.subplots(figsize=(8, 8))\n",
    "graph = sns.scatterplot(x = \"PET_BREED_SIZE_TYPE\", y = \"WEIGHT\", hue=\"GENDER\",\n",
    "                linewidth=0,\n",
    "                data=df, ax=ax).set_title(\"PET SIZE TYPE vs WEIGHT\")\n",
    "plt.show()"
   ]
  },
  {
   "cell_type": "code",
   "execution_count": 16,
   "metadata": {},
   "outputs": [],
   "source": [
    "# n,c = [], []\n",
    "# for col in df.columns:                  \n",
    "#     c.append(col), n.append(df[col].isnull().sum())\n",
    "# pd.DataFrame({'Columns': c, 'Null values': n})"
   ]
  },
  {
   "cell_type": "code",
   "execution_count": 17,
   "metadata": {},
   "outputs": [],
   "source": [
    "# sns.displot(\n",
    "#     df, x=\"WEIGHT\", x = \"PET_BREED_SIZE_TYPE\", y = \"GENDER\",\n",
    "#     binwidth=25, height=3, facet_kws=dict(margin_titles=True),\n",
    "# )"
   ]
  },
  {
   "cell_type": "markdown",
   "metadata": {},
   "source": [
    "---"
   ]
  },
  {
   "cell_type": "markdown",
   "metadata": {},
   "source": [
    "#### Breed Type"
   ]
  },
  {
   "cell_type": "code",
   "execution_count": 18,
   "metadata": {},
   "outputs": [],
   "source": [
    "breed_types = df['PET_BREED'].value_counts()\n",
    "#print(breed_types)\n",
    "#breed_types.drop(index=breed_types.index[0], axis=0, inplace=True)\n",
    "\n",
    "breeds = list(breed_types.index[0:15])\n",
    "breed_counts = list(breed_types[0:15])\n",
    "breed_per = [np.round(x/sum(breed_types)*100,2) for x in breed_counts]\n",
    "\n",
    "breed_size = []\n",
    "breed_weight = []\n",
    "for breed in breeds:\n",
    "    breed_size.append(df[df['PET_BREED'] == breed][:1]['PET_BREED_SIZE_TYPE'].to_string(index=False))\n",
    "    breed_weight.append(np.round(df[df['PET_BREED'] == breed]['WEIGHT'].mean(),2))"
   ]
  },
  {
   "cell_type": "code",
   "execution_count": 19,
   "metadata": {},
   "outputs": [
    {
     "name": "stdout",
     "output_type": "stream",
     "text": [
      "                   Breed Name  Count  Percentage Breed Size  Avg Weight\n",
      "0          Labrador Retriever  80788       10.24          L       70.47\n",
      "1             German Shepherd  45444        5.76          L       73.25\n",
      "2   American Pit Bull Terrier  37433        4.74          M       60.48\n",
      "3            Golden Retriever  33041        4.19          L       67.24\n",
      "4                   Chihuahua  32627        4.14         XS        9.55\n",
      "5           Yorkshire Terrier  27570        3.49         XS        8.77\n",
      "6                    Shih Tzu  27508        3.49         XS       13.65\n",
      "7         Australian Shepherd  22977        2.91          M       40.14\n",
      "8                Goldendoodle  22475        2.85         SM       44.68\n",
      "9                       Boxer  18769        2.38          L       62.57\n",
      "10                  Dachshund  16627        2.11         SM       15.21\n",
      "11             Siberian Husky  15093        1.91          M       53.59\n",
      "12                     Beagle  15070        1.91         SM       31.26\n",
      "13             French Bulldog  12868        1.63         SM       22.86\n",
      "14        Miniature Schnauzer  11676        1.48         SM       16.78\n",
      "\n",
      "Total number of breeds - 351\n",
      "Top 15 breeds make up 53.23% of the data\n"
     ]
    }
   ],
   "source": [
    "print(pd.DataFrame(list(zip(breeds, breed_counts, breed_per, breed_size, breed_weight)),\n",
    "               columns =['Breed Name', 'Count', 'Percentage', 'Breed Size', 'Avg Weight']))\n",
    "print(\"\\nTotal number of breeds -\",len(breed_types))\n",
    "print(\"Top {} breeds make up {}% of the data\".format(len(breeds),np.round(sum(breed_per),2)))\n"
   ]
  },
  {
   "cell_type": "markdown",
   "metadata": {},
   "source": [
    "**Recommendation**: Working with the top x breeds covers a majority of the data and can be a good starting point to associating breeds(and their breed-sizes) to products"
   ]
  },
  {
   "cell_type": "markdown",
   "metadata": {},
   "source": [
    "---"
   ]
  },
  {
   "cell_type": "markdown",
   "metadata": {},
   "source": [
    "#### Pet Breed Size Type"
   ]
  },
  {
   "cell_type": "code",
   "execution_count": 20,
   "metadata": {},
   "outputs": [
    {
     "data": {
      "image/png": "[encoded data removed]",
      "text/plain": [
       "<Figure size 576x432 with 1 Axes>"
      ]
     },
     "metadata": {
      "needs_background": "light"
     },
     "output_type": "display_data"
    },
    {
     "name": "stdout",
     "output_type": "stream",
     "text": [
      "L     32.61\n",
      "SM    22.98\n",
      "M     21.30\n",
      "XS    17.28\n",
      "XL     3.28\n",
      "G      2.56\n",
      "Name: PET_BREED_SIZE_TYPE, dtype: float64\n"
     ]
    }
   ],
   "source": [
    "df_index = df['PET_BREED_SIZE_TYPE'].value_counts().index\n",
    "df_counts = list(df['PET_BREED_SIZE_TYPE'].value_counts())\n",
    "f, ax = plt.subplots(figsize=(8, 6))\n",
    "sns.barplot(x=df_index, y=df_counts, palette=\"Blues_d\").set_title(\"Pet Breed Size Type Value Counts\")\n",
    "plt.show()\n",
    "print(df['PET_BREED_SIZE_TYPE'].value_counts(normalize = True).mul(100).round(2))"
   ]
  },
  {
   "cell_type": "code",
   "execution_count": 21,
   "metadata": {},
   "outputs": [
    {
     "name": "stdout",
     "output_type": "stream",
     "text": [
      "Avg weight for each breed size type\n",
      "PET_BREED_SIZE_TYPE\n",
      "G     111.73\n",
      "L      66.34\n",
      "M      47.84\n",
      "SM     23.34\n",
      "XL     78.97\n",
      "XS     10.92\n",
      "Name: WEIGHT, dtype: float64\n"
     ]
    },
    {
     "data": {
      "image/png": "[encoded data removed]",
      "text/plain": [
       "<Figure size 432x288 with 1 Axes>"
      ]
     },
     "metadata": {},
     "output_type": "display_data"
    }
   ],
   "source": [
    "print(\"Avg weight for each breed size type\")\n",
    "avg_wgt_size_type = np.round(df.groupby(['PET_BREED_SIZE_TYPE'])['WEIGHT'].mean(),2)\n",
    "print(avg_wgt_size_type)\n",
    "\n",
    "sns.set_theme(style=\"darkgrid\")\n",
    "sns.lineplot(x = ['G','L','M','SM','XL','XS'], y = avg_wgt_size_type, color = 'black')\n",
    "plt.show()"
   ]
  },
  {
   "cell_type": "code",
   "execution_count": 22,
   "metadata": {},
   "outputs": [
    {
     "name": "stdout",
     "output_type": "stream",
     "text": [
      "Unique pet breeds in each size type\n"
     ]
    },
    {
     "data": {
      "text/html": [
       "<div>\n",
       "<style scoped>\n",
       "    .dataframe tbody tr th:only-of-type {\n",
       "        vertical-align: middle;\n",
       "    }\n",
       "\n",
       "    .dataframe tbody tr th {\n",
       "        vertical-align: top;\n",
       "    }\n",
       "\n",
       "    .dataframe thead th {\n",
       "        text-align: right;\n",
       "    }\n",
       "</style>\n",
       "<table border=\"1\" class=\"dataframe\">\n",
       "  <thead>\n",
       "    <tr style=\"text-align: right;\">\n",
       "      <th></th>\n",
       "      <th>Pet Breed size type</th>\n",
       "      <th>Unique Breeds</th>\n",
       "      <th>Unique Breeds Count</th>\n",
       "      <th>Unique Breeds percentage</th>\n",
       "      <th>Percentage of total data</th>\n",
       "    </tr>\n",
       "  </thead>\n",
       "  <tbody>\n",
       "    <tr>\n",
       "      <th>0</th>\n",
       "      <td>G</td>\n",
       "      <td>[Mastiff, Saint Bernard, Great Dane, Newfoundl...</td>\n",
       "      <td>25</td>\n",
       "      <td>7.12</td>\n",
       "      <td>2.56</td>\n",
       "    </tr>\n",
       "    <tr>\n",
       "      <th>1</th>\n",
       "      <td>L</td>\n",
       "      <td>[Labrador Retriever, American Staffordshire Te...</td>\n",
       "      <td>93</td>\n",
       "      <td>26.50</td>\n",
       "      <td>32.61</td>\n",
       "    </tr>\n",
       "    <tr>\n",
       "      <th>2</th>\n",
       "      <td>M</td>\n",
       "      <td>[Siberian Husky, English Bulldog, American Pit...</td>\n",
       "      <td>108</td>\n",
       "      <td>30.77</td>\n",
       "      <td>21.30</td>\n",
       "    </tr>\n",
       "    <tr>\n",
       "      <th>3</th>\n",
       "      <td>SM</td>\n",
       "      <td>[Pug, Rat Terrier, Corgi, Beagle, Toy Poodle, ...</td>\n",
       "      <td>81</td>\n",
       "      <td>23.08</td>\n",
       "      <td>22.98</td>\n",
       "    </tr>\n",
       "    <tr>\n",
       "      <th>4</th>\n",
       "      <td>XL</td>\n",
       "      <td>[Rottweiler, Bernese Mountain Dog, Anatolian S...</td>\n",
       "      <td>15</td>\n",
       "      <td>4.27</td>\n",
       "      <td>3.28</td>\n",
       "    </tr>\n",
       "    <tr>\n",
       "      <th>5</th>\n",
       "      <td>XS</td>\n",
       "      <td>[Chihuahua, Yorkshire Terrier, Shih Tzu, Pomer...</td>\n",
       "      <td>29</td>\n",
       "      <td>8.26</td>\n",
       "      <td>17.28</td>\n",
       "    </tr>\n",
       "  </tbody>\n",
       "</table>\n",
       "</div>"
      ],
      "text/plain": [
       "  Pet Breed size type                                      Unique Breeds  \\\n",
       "0                   G  [Mastiff, Saint Bernard, Great Dane, Newfoundl...   \n",
       "1                   L  [Labrador Retriever, American Staffordshire Te...   \n",
       "2                   M  [Siberian Husky, English Bulldog, American Pit...   \n",
       "3                  SM  [Pug, Rat Terrier, Corgi, Beagle, Toy Poodle, ...   \n",
       "4                  XL  [Rottweiler, Bernese Mountain Dog, Anatolian S...   \n",
       "5                  XS  [Chihuahua, Yorkshire Terrier, Shih Tzu, Pomer...   \n",
       "\n",
       "   Unique Breeds Count  Unique Breeds percentage  Percentage of total data  \n",
       "0                   25                      7.12                      2.56  \n",
       "1                   93                     26.50                     32.61  \n",
       "2                  108                     30.77                     21.30  \n",
       "3                   81                     23.08                     22.98  \n",
       "4                   15                      4.27                      3.28  \n",
       "5                   29                      8.26                     17.28  "
      ]
     },
     "execution_count": 22,
     "metadata": {},
     "output_type": "execute_result"
    }
   ],
   "source": [
    "print(\"Unique pet breeds in each size type\")\n",
    "#print(df.groupby(['PET_BREED_SIZE_TYPE'])['PET_BREED'].agg(['unique','nunique']))\n",
    "\n",
    "uni_breed = df.groupby(['PET_BREED_SIZE_TYPE'])['PET_BREED'].unique()\n",
    "nuni_breed = df.groupby(['PET_BREED_SIZE_TYPE'])['PET_BREED'].nunique()\n",
    "nuni_per =  np.round(nuni_breed/len(df['PET_BREED'].unique())*100,2)\n",
    "data_per = np.round(df.groupby(['PET_BREED_SIZE_TYPE'])['PET_BREED'].count()/len(df)*100,2)\n",
    "\n",
    "pd.DataFrame(list(zip(['G','L','M','SM','XL','XS'],uni_breed, nuni_breed, nuni_per, data_per)),\n",
    "               columns =['Pet Breed size type','Unique Breeds', 'Unique Breeds Count', 'Unique Breeds percentage', 'Percentage of total data'])"
   ]
  },
  {
   "cell_type": "markdown",
   "metadata": {},
   "source": [
    "**Recommendation**: Working directly with specific pet breed size types also allows us to access a majority of the data which can be a good starting point <br>\n",
    "Ex: SM, M and L make up 76.8% of the total data which also covers 80.33% of all unique pet breeds"
   ]
  },
  {
   "cell_type": "markdown",
   "metadata": {},
   "source": [
    "---"
   ]
  },
  {
   "cell_type": "markdown",
   "metadata": {},
   "source": [
    "Q: PDM.PRODUCT has a 'BREED_SIZE' column associating products to breed sizes. <br>\n",
    "Obj: To impute the missing values(54.82%) / To perform a check on the existing values"
   ]
  },
  {
   "cell_type": "markdown",
   "metadata": {},
   "source": [
    "---"
   ]
  },
  {
   "cell_type": "markdown",
   "metadata": {},
   "source": [
    "---"
   ]
  },
  {
   "cell_type": "markdown",
   "metadata": {},
   "source": [
    "---"
   ]
  },
  {
   "cell_type": "markdown",
   "metadata": {},
   "source": [
    "#### Gender\n",
    "Gender only gives an option of Male/Female while registering for pet profile. How do we have UNKN gender counts as well?"
   ]
  },
  {
   "cell_type": "code",
   "execution_count": 23,
   "metadata": {},
   "outputs": [
    {
     "name": "stdout",
     "output_type": "stream",
     "text": [
      "Value Counts: \n",
      " MALE    404807\n",
      "FMLE    384144\n",
      "Name: GENDER, dtype: int64\n"
     ]
    },
    {
     "data": {
      "image/png": "[encoded data removed]",
      "text/plain": [
       "<Figure size 432x288 with 1 Axes>"
      ]
     },
     "metadata": {},
     "output_type": "display_data"
    }
   ],
   "source": [
    "print(\"Value Counts: \\n\", df['GENDER'].value_counts())\n",
    "\n",
    "sns.barplot(x = ['M','F'], y =df['GENDER'].value_counts(), palette=\"flare\")\n",
    "plt.show()"
   ]
  },
  {
   "cell_type": "code",
   "execution_count": 24,
   "metadata": {},
   "outputs": [
    {
     "name": "stdout",
     "output_type": "stream",
     "text": [
      "Gender counts for Top 15 breeds\n"
     ]
    },
    {
     "data": {
      "text/html": [
       "<div>\n",
       "<style scoped>\n",
       "    .dataframe tbody tr th:only-of-type {\n",
       "        vertical-align: middle;\n",
       "    }\n",
       "\n",
       "    .dataframe tbody tr th {\n",
       "        vertical-align: top;\n",
       "    }\n",
       "\n",
       "    .dataframe thead th {\n",
       "        text-align: right;\n",
       "    }\n",
       "</style>\n",
       "<table border=\"1\" class=\"dataframe\">\n",
       "  <thead>\n",
       "    <tr style=\"text-align: right;\">\n",
       "      <th></th>\n",
       "      <th>Breed Name</th>\n",
       "      <th>Male Count</th>\n",
       "      <th>Female Count</th>\n",
       "    </tr>\n",
       "  </thead>\n",
       "  <tbody>\n",
       "    <tr>\n",
       "      <th>0</th>\n",
       "      <td>Labrador Retriever</td>\n",
       "      <td>41514</td>\n",
       "      <td>39274</td>\n",
       "    </tr>\n",
       "    <tr>\n",
       "      <th>1</th>\n",
       "      <td>German Shepherd</td>\n",
       "      <td>23368</td>\n",
       "      <td>22076</td>\n",
       "    </tr>\n",
       "    <tr>\n",
       "      <th>2</th>\n",
       "      <td>American Pit Bull Terrier</td>\n",
       "      <td>19222</td>\n",
       "      <td>18211</td>\n",
       "    </tr>\n",
       "    <tr>\n",
       "      <th>3</th>\n",
       "      <td>Golden Retriever</td>\n",
       "      <td>17775</td>\n",
       "      <td>15266</td>\n",
       "    </tr>\n",
       "    <tr>\n",
       "      <th>4</th>\n",
       "      <td>Chihuahua</td>\n",
       "      <td>17546</td>\n",
       "      <td>15081</td>\n",
       "    </tr>\n",
       "    <tr>\n",
       "      <th>5</th>\n",
       "      <td>Yorkshire Terrier</td>\n",
       "      <td>13786</td>\n",
       "      <td>13784</td>\n",
       "    </tr>\n",
       "    <tr>\n",
       "      <th>6</th>\n",
       "      <td>Shih Tzu</td>\n",
       "      <td>14165</td>\n",
       "      <td>13343</td>\n",
       "    </tr>\n",
       "    <tr>\n",
       "      <th>7</th>\n",
       "      <td>Australian Shepherd</td>\n",
       "      <td>11881</td>\n",
       "      <td>11096</td>\n",
       "    </tr>\n",
       "    <tr>\n",
       "      <th>8</th>\n",
       "      <td>Goldendoodle</td>\n",
       "      <td>12192</td>\n",
       "      <td>10283</td>\n",
       "    </tr>\n",
       "    <tr>\n",
       "      <th>9</th>\n",
       "      <td>Boxer</td>\n",
       "      <td>9571</td>\n",
       "      <td>9198</td>\n",
       "    </tr>\n",
       "    <tr>\n",
       "      <th>10</th>\n",
       "      <td>Dachshund</td>\n",
       "      <td>8427</td>\n",
       "      <td>8200</td>\n",
       "    </tr>\n",
       "    <tr>\n",
       "      <th>11</th>\n",
       "      <td>Siberian Husky</td>\n",
       "      <td>7564</td>\n",
       "      <td>7529</td>\n",
       "    </tr>\n",
       "    <tr>\n",
       "      <th>12</th>\n",
       "      <td>Beagle</td>\n",
       "      <td>7640</td>\n",
       "      <td>7430</td>\n",
       "    </tr>\n",
       "    <tr>\n",
       "      <th>13</th>\n",
       "      <td>French Bulldog</td>\n",
       "      <td>7176</td>\n",
       "      <td>5692</td>\n",
       "    </tr>\n",
       "    <tr>\n",
       "      <th>14</th>\n",
       "      <td>Miniature Schnauzer</td>\n",
       "      <td>5905</td>\n",
       "      <td>5771</td>\n",
       "    </tr>\n",
       "  </tbody>\n",
       "</table>\n",
       "</div>"
      ],
      "text/plain": [
       "                   Breed Name  Male Count  Female Count\n",
       "0          Labrador Retriever       41514         39274\n",
       "1             German Shepherd       23368         22076\n",
       "2   American Pit Bull Terrier       19222         18211\n",
       "3            Golden Retriever       17775         15266\n",
       "4                   Chihuahua       17546         15081\n",
       "5           Yorkshire Terrier       13786         13784\n",
       "6                    Shih Tzu       14165         13343\n",
       "7         Australian Shepherd       11881         11096\n",
       "8                Goldendoodle       12192         10283\n",
       "9                       Boxer        9571          9198\n",
       "10                  Dachshund        8427          8200\n",
       "11             Siberian Husky        7564          7529\n",
       "12                     Beagle        7640          7430\n",
       "13             French Bulldog        7176          5692\n",
       "14        Miniature Schnauzer        5905          5771"
      ]
     },
     "execution_count": 24,
     "metadata": {},
     "output_type": "execute_result"
    }
   ],
   "source": [
    "male,female = [], []\n",
    "for breed_name in breeds:\n",
    "    male.append(df[df['PET_BREED'] == breed_name]['GENDER'].value_counts()[0])\n",
    "    female.append(df[df['PET_BREED'] == breed_name]['GENDER'].value_counts()[1])\n",
    "    #unknown.append(df[df['PET_BREED'] == breed_name]['GENDER'].value_counts()[2])\n",
    "\n",
    "print(\"Gender counts for Top 15 breeds\")\n",
    "pd.DataFrame(list(zip(breeds, male, female)),\n",
    "               columns =['Breed Name', 'Male Count', 'Female Count'])"
   ]
  },
  {
   "cell_type": "markdown",
   "metadata": {},
   "source": [
    "#### Customer Id"
   ]
  },
  {
   "cell_type": "code",
   "execution_count": 25,
   "metadata": {},
   "outputs": [
    {
     "data": {
      "text/plain": [
       "20564"
      ]
     },
     "execution_count": 25,
     "metadata": {},
     "output_type": "execute_result"
    }
   ],
   "source": [
    "#Number of repeated customers\n",
    "len(df['CUSTOMER_ID']) - len(df['CUSTOMER_ID'].unique())"
   ]
  },
  {
   "cell_type": "markdown",
   "metadata": {},
   "source": [
    "---"
   ]
  },
  {
   "cell_type": "markdown",
   "metadata": {},
   "source": [
    "---"
   ]
  },
  {
   "cell_type": "markdown",
   "metadata": {},
   "source": [
    "---"
   ]
  },
  {
   "cell_type": "markdown",
   "metadata": {},
   "source": [
    "* Join ORDER_LINE_PROMOTION_USAGE with PET_PROFILE on customer_id\n",
    "* Join ORDER_LINE_PROMOTION_USAGE with PRODUCT on product_id\n",
    "* Filter by PET_TYPE = 'Dog' and remove NULLS in PET_BREED_SIZE_TYPE and SIZE_TYPE\n",
    "* Select a subset of 3.53M values out of ~353M values (1%)"
   ]
  },
  {
   "cell_type": "code",
   "execution_count": 54,
   "metadata": {},
   "outputs": [],
   "source": [
    "    qry2 = \"\"\"SELECT \n",
    "    OL.CUSTOMER_ID, OL.PRODUCT_ID, OL.ORDER_ID, OL.PRODUCT_NAME, OL.MERCH_CLASSIFICATION1, OL.MERCH_CLASSIFICATION2, \n",
    "    PP.PET_TYPE, PP.PET_BREED, PP.WEIGHT, PP.BIRTHDAY, PP.SIZE_TYPE, PP.PET_BREED_SIZE_TYPE, \n",
    "    P.BREED_SIZE, P.LIFE_STAGE\n",
    "\n",
    "    FROM \"EDLDB\".\"CDM\".\"ORDER_LINE_PROMOTION_USAGE\" AS OL\n",
    "    JOIN \"EDLDB\".\"CDM\".\"PET_PROFILE\" AS PP ON PP.CUSTOMER_ID = OL.CUSTOMER_ID\n",
    "    JOIN \"EDLDB\".\"PDM\".\"PRODUCT\" AS P ON P.PRODUCT_ID = OL.PRODUCT_ID\n",
    "    WHERE PP.PET_TYPE = 'Dog' and PP.PET_BREED_SIZE_TYPE IS NOT NULL AND PP.PET_BREED_SIZE_TYPE <> 'UNK'\n",
    "    QUALIFY ROW_NUMBER() OVER (ORDER BY RANDOM()) <= 3530000\n",
    "\"\"\""
   ]
  },
  {
   "cell_type": "code",
   "execution_count": 56,
   "metadata": {},
   "outputs": [
    {
     "data": {
      "text/html": [
       "<div>\n",
       "<style scoped>\n",
       "    .dataframe tbody tr th:only-of-type {\n",
       "        vertical-align: middle;\n",
       "    }\n",
       "\n",
       "    .dataframe tbody tr th {\n",
       "        vertical-align: top;\n",
       "    }\n",
       "\n",
       "    .dataframe thead th {\n",
       "        text-align: right;\n",
       "    }\n",
       "</style>\n",
       "<table border=\"1\" class=\"dataframe\">\n",
       "  <thead>\n",
       "    <tr style=\"text-align: right;\">\n",
       "      <th></th>\n",
       "      <th>CUSTOMER_ID</th>\n",
       "      <th>PRODUCT_ID</th>\n",
       "      <th>ORDER_ID</th>\n",
       "      <th>PRODUCT_NAME</th>\n",
       "      <th>MERCH_CLASSIFICATION1</th>\n",
       "      <th>MERCH_CLASSIFICATION2</th>\n",
       "      <th>PET_TYPE</th>\n",
       "      <th>PET_BREED</th>\n",
       "      <th>WEIGHT</th>\n",
       "      <th>BIRTHDAY</th>\n",
       "      <th>SIZE_TYPE</th>\n",
       "      <th>PET_BREED_SIZE_TYPE</th>\n",
       "      <th>BREED_SIZE</th>\n",
       "      <th>LIFE_STAGE</th>\n",
       "    </tr>\n",
       "  </thead>\n",
       "  <tbody>\n",
       "    <tr>\n",
       "      <th>0</th>\n",
       "      <td>9975265</td>\n",
       "      <td>33281</td>\n",
       "      <td>330037264</td>\n",
       "      <td>Natural Balance L.I.T. Limited Ingredient Grai...</td>\n",
       "      <td>Consumables</td>\n",
       "      <td>Core Treats</td>\n",
       "      <td>Dog</td>\n",
       "      <td>Chihuahua</td>\n",
       "      <td>12.0</td>\n",
       "      <td>2005-03-23</td>\n",
       "      <td>XS</td>\n",
       "      <td>XS</td>\n",
       "      <td>Extra Small &amp; Toy Breeds;Giant Breeds;Large Br...</td>\n",
       "      <td>Adult</td>\n",
       "    </tr>\n",
       "    <tr>\n",
       "      <th>1</th>\n",
       "      <td>63239544</td>\n",
       "      <td>123726</td>\n",
       "      <td>386878638</td>\n",
       "      <td>Hill's Science Diet Adult Sensitive Stomach &amp; ...</td>\n",
       "      <td>Consumables</td>\n",
       "      <td>Core Food</td>\n",
       "      <td>Dog</td>\n",
       "      <td>Labrador Retriever</td>\n",
       "      <td>70.0</td>\n",
       "      <td>2015-10-30</td>\n",
       "      <td>L</td>\n",
       "      <td>L</td>\n",
       "      <td>Extra Small &amp; Toy Breeds;Small Breeds</td>\n",
       "      <td>Adult</td>\n",
       "    </tr>\n",
       "    <tr>\n",
       "      <th>2</th>\n",
       "      <td>34744230</td>\n",
       "      <td>36660</td>\n",
       "      <td>351999353</td>\n",
       "      <td>Nature's Recipe Grain-Free Salmon, Sweet Potat...</td>\n",
       "      <td>Consumables</td>\n",
       "      <td>Core Food</td>\n",
       "      <td>Dog</td>\n",
       "      <td>American Bully</td>\n",
       "      <td>60.0</td>\n",
       "      <td>2019-08-21</td>\n",
       "      <td>L</td>\n",
       "      <td>L</td>\n",
       "      <td>All Breeds;Large Breeds;Medium Breeds;Small Br...</td>\n",
       "      <td>Adult</td>\n",
       "    </tr>\n",
       "    <tr>\n",
       "      <th>3</th>\n",
       "      <td>10880701</td>\n",
       "      <td>115622</td>\n",
       "      <td>181647946</td>\n",
       "      <td>Bones &amp; Chews Made in USA Elk Antler Dog Chew,...</td>\n",
       "      <td>Consumables</td>\n",
       "      <td>Core Treats</td>\n",
       "      <td>Dog</td>\n",
       "      <td>Golden Retriever</td>\n",
       "      <td>95.0</td>\n",
       "      <td>2016-05-30</td>\n",
       "      <td>L</td>\n",
       "      <td>L</td>\n",
       "      <td>Giant Breeds;Large Breeds</td>\n",
       "      <td>Adult</td>\n",
       "    </tr>\n",
       "    <tr>\n",
       "      <th>4</th>\n",
       "      <td>25755073</td>\n",
       "      <td>172989</td>\n",
       "      <td>1095896256</td>\n",
       "      <td>Interceptor Chewable Tablet for Dogs, 11-25 lb...</td>\n",
       "      <td>Healthcare</td>\n",
       "      <td>Pharmacy</td>\n",
       "      <td>Dog</td>\n",
       "      <td>Doberman Pinscher</td>\n",
       "      <td>109.0</td>\n",
       "      <td>2016-05-30</td>\n",
       "      <td>L</td>\n",
       "      <td>L</td>\n",
       "      <td>Small Breeds</td>\n",
       "      <td>None</td>\n",
       "    </tr>\n",
       "  </tbody>\n",
       "</table>\n",
       "</div>"
      ],
      "text/plain": [
       "   CUSTOMER_ID  PRODUCT_ID    ORDER_ID  \\\n",
       "0      9975265       33281   330037264   \n",
       "1     63239544      123726   386878638   \n",
       "2     34744230       36660   351999353   \n",
       "3     10880701      115622   181647946   \n",
       "4     25755073      172989  1095896256   \n",
       "\n",
       "                                        PRODUCT_NAME MERCH_CLASSIFICATION1  \\\n",
       "0  Natural Balance L.I.T. Limited Ingredient Grai...           Consumables   \n",
       "1  Hill's Science Diet Adult Sensitive Stomach & ...           Consumables   \n",
       "2  Nature's Recipe Grain-Free Salmon, Sweet Potat...           Consumables   \n",
       "3  Bones & Chews Made in USA Elk Antler Dog Chew,...           Consumables   \n",
       "4  Interceptor Chewable Tablet for Dogs, 11-25 lb...            Healthcare   \n",
       "\n",
       "  MERCH_CLASSIFICATION2 PET_TYPE           PET_BREED  WEIGHT    BIRTHDAY  \\\n",
       "0           Core Treats      Dog           Chihuahua    12.0  2005-03-23   \n",
       "1             Core Food      Dog  Labrador Retriever    70.0  2015-10-30   \n",
       "2             Core Food      Dog      American Bully    60.0  2019-08-21   \n",
       "3           Core Treats      Dog    Golden Retriever    95.0  2016-05-30   \n",
       "4              Pharmacy      Dog   Doberman Pinscher   109.0  2016-05-30   \n",
       "\n",
       "  SIZE_TYPE PET_BREED_SIZE_TYPE  \\\n",
       "0        XS                  XS   \n",
       "1         L                   L   \n",
       "2         L                   L   \n",
       "3         L                   L   \n",
       "4         L                   L   \n",
       "\n",
       "                                          BREED_SIZE LIFE_STAGE  \n",
       "0  Extra Small & Toy Breeds;Giant Breeds;Large Br...      Adult  \n",
       "1              Extra Small & Toy Breeds;Small Breeds      Adult  \n",
       "2  All Breeds;Large Breeds;Medium Breeds;Small Br...      Adult  \n",
       "3                          Giant Breeds;Large Breeds      Adult  \n",
       "4                                       Small Breeds       None  "
      ]
     },
     "execution_count": 56,
     "metadata": {},
     "output_type": "execute_result"
    }
   ],
   "source": [
    "data = exec_qry_all(qry2)\n",
    "data.head()"
   ]
  },
  {
   "cell_type": "code",
   "execution_count": 92,
   "metadata": {},
   "outputs": [
    {
     "data": {
      "text/plain": [
       "1609025"
      ]
     },
     "execution_count": 92,
     "metadata": {},
     "output_type": "execute_result"
    }
   ],
   "source": [
    "data['CUSTOMER_ID'].nunique()"
   ]
  },
  {
   "cell_type": "markdown",
   "metadata": {},
   "source": [
    "---"
   ]
  },
  {
   "cell_type": "markdown",
   "metadata": {},
   "source": [
    "What is the order % vs breed size?"
   ]
  },
  {
   "cell_type": "code",
   "execution_count": 121,
   "metadata": {},
   "outputs": [
    {
     "name": "stdout",
     "output_type": "stream",
     "text": [
      "% of orders made by customers having breed size:\n",
      " L     35.93\n",
      "M     21.16\n",
      "SM    20.74\n",
      "XS    14.51\n",
      "XL     3.96\n",
      "G      3.70\n",
      "Name: PET_BREED_SIZE_TYPE, dtype: float64\n"
     ]
    }
   ],
   "source": [
    "print(\"% of orders made by customers having breed size:\\n\", np.round(data['PET_BREED_SIZE_TYPE'].value_counts()/len(data)*100,2))"
   ]
  },
  {
   "cell_type": "markdown",
   "metadata": {},
   "source": [
    "---"
   ]
  },
  {
   "cell_type": "markdown",
   "metadata": {},
   "source": [
    "What are the most ordered products?"
   ]
  },
  {
   "cell_type": "code",
   "execution_count": 59,
   "metadata": {},
   "outputs": [
    {
     "name": "stdout",
     "output_type": "stream",
     "text": [
      "                                                               counts     %\n",
      "PRODUCT_ID PRODUCT_NAME                                                    \n",
      "173047     Apoquel Tablets for Dogs, 16-mg, 1 tablet            18277  0.52\n",
      "173234     Heartgard Plus Chew for Dogs, 51-100 lbs, (Brow...   15669  0.44\n",
      "32041      Blue Buffalo Life Protection Formula Adult Chic...   15517  0.44\n",
      "128666     Purina Pro Plan Adult Sensitive Skin & Stomach ...   14969  0.42\n",
      "135821     American Journey Salmon & Sweet Potato Recipe G...   13958  0.40\n",
      "53157      SmartBones SmartSticks Peanut Butter Chews Dog ...   12877  0.36\n",
      "173230     Heartgard Plus Chew for Dogs, up to 25 lbs, (Bl...   11892  0.34\n",
      "152973     American Journey Peanut Butter Recipe Grain-Fre...   11139  0.32\n",
      "181320     Taste of the Wild High Prairie Grain-Free Dry D...   10533  0.30\n",
      "173254     NexGard Chew for Dogs, 60.1-121 lbs, (Red Box),...    9646  0.27\n",
      "\n",
      "Top 10 products make up 3.81% of all orders\n"
     ]
    }
   ],
   "source": [
    "c = data[['PRODUCT_ID','PRODUCT_NAME']].value_counts()[0:10]\n",
    "p = data[['PRODUCT_ID','PRODUCT_NAME']].value_counts(normalize=True).mul(100).round(2)[0:10]\n",
    "print(pd.concat([c,p], axis=1, keys=['counts', '%']))\n",
    "print(\"\\nTop 10 products make up {}% of all orders\".format(p.sum().round(2)))"
   ]
  },
  {
   "cell_type": "markdown",
   "metadata": {},
   "source": [
    "What are the most ordered products for any size type?"
   ]
  },
  {
   "cell_type": "code",
   "execution_count": 60,
   "metadata": {},
   "outputs": [],
   "source": [
    "def Most_ordered(size_type, n = 10):\n",
    "    c = data[data['PET_BREED_SIZE_TYPE'] == size_type][['PRODUCT_ID','PRODUCT_NAME']].value_counts()[0:n]\n",
    "    p = data[data['PET_BREED_SIZE_TYPE'] == size_type][['PRODUCT_ID','PRODUCT_NAME']].value_counts(normalize=True).mul(100).round(2)[0:n]\n",
    "    print(pd.concat([c,p], axis=1, keys=['counts', '%']))\n",
    "    print(\"\\nTop {} products make up {}% of all orders\".format(n, p.sum().round(2)))"
   ]
  },
  {
   "cell_type": "code",
   "execution_count": 61,
   "metadata": {},
   "outputs": [
    {
     "name": "stdout",
     "output_type": "stream",
     "text": [
      "                                                               counts     %\n",
      "PRODUCT_ID PRODUCT_NAME                                                    \n",
      "32062      Blue Buffalo Life Protection Formula Large Bree...     929  0.71\n",
      "44929      Diamond Naturals Large Breed Adult Chicken & Ri...     916  0.70\n",
      "141446     Hill's Science Diet Adult Large Breed Dry Dog F...     793  0.61\n",
      "128666     Purina Pro Plan Adult Sensitive Skin & Stomach ...     737  0.56\n",
      "52393      Purina Pro Plan Adult Giant Breed Formula Dry D...     696  0.53\n",
      "37558      Purina ONE Natural Large Breed +Plus Formula Dr...     680  0.52\n",
      "170136     Purina ONE Natural Large Breed +Plus Formula Dr...     673  0.52\n",
      "37580      Purina ONE Natural High Protein +Plus Large Bre...     654  0.50\n",
      "52425      Purina Pro Plan Large Breed High Protein Chicke...     648  0.50\n",
      "182003     Purina Pro Plan Adult Sensitive Skin & Stomach ...     643  0.49\n",
      "47272      Iams Adult Large Breed Real Chicken High Protei...     617  0.47\n",
      "173047     Apoquel Tablets for Dogs, 16-mg, 1 tablet              594  0.45\n",
      "44933      Diamond Naturals Large Breed Adult Lamb Meal & ...     583  0.45\n",
      "173234     Heartgard Plus Chew for Dogs, 51-100 lbs, (Brow...     549  0.42\n",
      "52396      Purina Pro Plan Adult Large Breed Chicken & Ric...     533  0.41\n",
      "\n",
      "Top 15 products make up 7.84% of all orders\n"
     ]
    }
   ],
   "source": [
    "#Mention size_type in '' and top n products to be displayed \n",
    "Most_ordered('G',15)"
   ]
  },
  {
   "cell_type": "markdown",
   "metadata": {},
   "source": [
    "---"
   ]
  },
  {
   "cell_type": "markdown",
   "metadata": {},
   "source": [
    "What is the count of each size type of pets for a particular product?"
   ]
  },
  {
   "cell_type": "code",
   "execution_count": 62,
   "metadata": {},
   "outputs": [],
   "source": [
    "def Size_type(product_id):\n",
    "    print(\"Product ID {} - {}\".format(product_id, list(data.loc[data['PRODUCT_ID'] == product_id,'PRODUCT_NAME'])[0]))\n",
    "    print(\"Customers ordering product {} have:\".format(product_id))\n",
    "    print(data[data['PRODUCT_ID'] == product_id]['PET_BREED_SIZE_TYPE'].value_counts())"
   ]
  },
  {
   "cell_type": "code",
   "execution_count": 63,
   "metadata": {},
   "outputs": [
    {
     "name": "stdout",
     "output_type": "stream",
     "text": [
      "Product ID 52393 - Purina Pro Plan Adult Giant Breed Formula Dry Dog Food, 34-lb bag\n",
      "Customers ordering product 52393 have:\n",
      "G     696\n",
      "XL    155\n",
      "L     137\n",
      "SM     51\n",
      "M      49\n",
      "XS     38\n",
      "Name: PET_BREED_SIZE_TYPE, dtype: int64\n"
     ]
    }
   ],
   "source": [
    "Size_type(52393)"
   ]
  },
  {
   "cell_type": "markdown",
   "metadata": {},
   "source": [
    "---"
   ]
  },
  {
   "cell_type": "markdown",
   "metadata": {},
   "source": [
    "What number of products are common between two sizes?"
   ]
  },
  {
   "cell_type": "code",
   "execution_count": 64,
   "metadata": {},
   "outputs": [
    {
     "name": "stdout",
     "output_type": "stream",
     "text": [
      "All sizes 63199\n",
      "XS 34258\n",
      "SM 39191\n",
      "M 38149\n",
      "L 42583\n",
      "XL 18334\n",
      "G 16298\n"
     ]
    }
   ],
   "source": [
    "print(\"All sizes\",data['PRODUCT_ID'].nunique())\n",
    "size = ['XS','SM','M','L','XL','G']\n",
    "for x in size:\n",
    "    print(x, data[data['PET_BREED_SIZE_TYPE'] == x]['PRODUCT_ID'].nunique())"
   ]
  },
  {
   "cell_type": "code",
   "execution_count": 97,
   "metadata": {},
   "outputs": [],
   "source": [
    "def common_prod(size1, size2):\n",
    "    len1 = data[data['PET_BREED_SIZE_TYPE'] == size1]['PRODUCT_ID'].nunique()\n",
    "    len2 = data[data['PET_BREED_SIZE_TYPE'] == size2]['PRODUCT_ID'].nunique()\n",
    "    len12 = data[(data['PET_BREED_SIZE_TYPE'] == size1) | (data['PET_BREED_SIZE_TYPE'] == size2)]['PRODUCT_ID'].nunique()\n",
    "    lenun = len1+len2 - len12\n",
    "    print(\"{} has {}% common values with {}\".format(size1, np.round(lenun/len1*(100),2), size2))\n",
    "    print(\"{} has {}% common values with {}\".format(size2, np.round(lenun/len2*(100),2), size1))\n",
    "    print(len1, len2, len12,lenun)"
   ]
  },
  {
   "cell_type": "code",
   "execution_count": 98,
   "metadata": {},
   "outputs": [
    {
     "name": "stdout",
     "output_type": "stream",
     "text": [
      "M has 77.83% common values with L\n",
      "L has 69.73% common values with M\n",
      "38149 42583 51040 29692\n"
     ]
    }
   ],
   "source": [
    "common_prod('M','L')"
   ]
  },
  {
   "cell_type": "markdown",
   "metadata": {},
   "source": [
    "---"
   ]
  },
  {
   "cell_type": "markdown",
   "metadata": {},
   "source": [
    "Table for all breed sizes"
   ]
  },
  {
   "cell_type": "code",
   "execution_count": 99,
   "metadata": {},
   "outputs": [
    {
     "data": {
      "text/html": [
       "<div>\n",
       "<style scoped>\n",
       "    .dataframe tbody tr th:only-of-type {\n",
       "        vertical-align: middle;\n",
       "    }\n",
       "\n",
       "    .dataframe tbody tr th {\n",
       "        vertical-align: top;\n",
       "    }\n",
       "\n",
       "    .dataframe thead th {\n",
       "        text-align: right;\n",
       "    }\n",
       "</style>\n",
       "<table border=\"1\" class=\"dataframe\">\n",
       "  <thead>\n",
       "    <tr style=\"text-align: right;\">\n",
       "      <th></th>\n",
       "      <th>XS</th>\n",
       "      <th>L</th>\n",
       "      <th>G</th>\n",
       "      <th>M</th>\n",
       "      <th>SM</th>\n",
       "      <th>XL</th>\n",
       "    </tr>\n",
       "  </thead>\n",
       "  <tbody>\n",
       "    <tr>\n",
       "      <th>XS</th>\n",
       "      <td>100.00</td>\n",
       "      <td>61.92</td>\n",
       "      <td>83.18</td>\n",
       "      <td>65.91</td>\n",
       "      <td>66.27</td>\n",
       "      <td>82.52</td>\n",
       "    </tr>\n",
       "    <tr>\n",
       "      <th>L</th>\n",
       "      <td>76.97</td>\n",
       "      <td>100.00</td>\n",
       "      <td>91.90</td>\n",
       "      <td>77.83</td>\n",
       "      <td>74.84</td>\n",
       "      <td>90.81</td>\n",
       "    </tr>\n",
       "    <tr>\n",
       "      <th>G</th>\n",
       "      <td>39.57</td>\n",
       "      <td>35.17</td>\n",
       "      <td>100.00</td>\n",
       "      <td>38.07</td>\n",
       "      <td>36.45</td>\n",
       "      <td>59.48</td>\n",
       "    </tr>\n",
       "    <tr>\n",
       "      <th>M</th>\n",
       "      <td>73.39</td>\n",
       "      <td>69.73</td>\n",
       "      <td>89.11</td>\n",
       "      <td>100.00</td>\n",
       "      <td>71.01</td>\n",
       "      <td>88.03</td>\n",
       "    </tr>\n",
       "    <tr>\n",
       "      <th>SM</th>\n",
       "      <td>75.81</td>\n",
       "      <td>68.88</td>\n",
       "      <td>87.64</td>\n",
       "      <td>72.95</td>\n",
       "      <td>100.00</td>\n",
       "      <td>87.24</td>\n",
       "    </tr>\n",
       "    <tr>\n",
       "      <th>XL</th>\n",
       "      <td>44.16</td>\n",
       "      <td>39.10</td>\n",
       "      <td>66.91</td>\n",
       "      <td>42.31</td>\n",
       "      <td>40.81</td>\n",
       "      <td>100.00</td>\n",
       "    </tr>\n",
       "  </tbody>\n",
       "</table>\n",
       "</div>"
      ],
      "text/plain": [
       "        XS       L       G       M      SM      XL\n",
       "XS  100.00   61.92   83.18   65.91   66.27   82.52\n",
       "L    76.97  100.00   91.90   77.83   74.84   90.81\n",
       "G    39.57   35.17  100.00   38.07   36.45   59.48\n",
       "M    73.39   69.73   89.11  100.00   71.01   88.03\n",
       "SM   75.81   68.88   87.64   72.95  100.00   87.24\n",
       "XL   44.16   39.10   66.91   42.31   40.81  100.00"
      ]
     },
     "execution_count": 99,
     "metadata": {},
     "output_type": "execute_result"
    }
   ],
   "source": [
    "l1 = []\n",
    "for i in data['PET_BREED_SIZE_TYPE'].unique():\n",
    "    for j in data['PET_BREED_SIZE_TYPE'].unique():\n",
    "        len1 = data[data['PET_BREED_SIZE_TYPE'] == i]['PRODUCT_ID'].nunique()\n",
    "        len2 = data[data['PET_BREED_SIZE_TYPE'] == j]['PRODUCT_ID'].nunique()\n",
    "        len12 = data[(data['PET_BREED_SIZE_TYPE'] == i) | (data['PET_BREED_SIZE_TYPE'] == j)]['PRODUCT_ID'].nunique()\n",
    "        lenun = len1+len2 - len12\n",
    "        #print(\"{} has {}% common products with {}\".format(i, np.round(lenun/len2*(100),2), j))\n",
    "        l1.append(np.round(lenun/len1*(100),2))\n",
    "\n",
    "table = pd.DataFrame(list(zip(l1[0:6], l1[6:12], l1[12:18], l1[18:24], l1[24:30], l1[30:36])), columns = data['PET_BREED_SIZE_TYPE'].unique(), index = data['PET_BREED_SIZE_TYPE'].unique())\n",
    "table"
   ]
  },
  {
   "cell_type": "markdown",
   "metadata": {},
   "source": [
    "Table is read columnn wise <br>\n",
    "(row wise in the doc)"
   ]
  },
  {
   "cell_type": "markdown",
   "metadata": {},
   "source": [
    "---"
   ]
  },
  {
   "cell_type": "markdown",
   "metadata": {},
   "source": [
    "---"
   ]
  },
  {
   "cell_type": "markdown",
   "metadata": {},
   "source": [
    "MC1 %"
   ]
  },
  {
   "cell_type": "code",
   "execution_count": 122,
   "metadata": {},
   "outputs": [
    {
     "data": {
      "text/plain": [
       "Consumables       66.13\n",
       "Healthcare        20.99\n",
       "Hard Goods         6.68\n",
       "Premium            3.37\n",
       "Specialty          2.67\n",
       "Gift Cards         0.17\n",
       "Virtual Bundle     0.00\n",
       "Name: MERCH_CLASSIFICATION1, dtype: float64"
      ]
     },
     "execution_count": 122,
     "metadata": {},
     "output_type": "execute_result"
    }
   ],
   "source": [
    "data['MERCH_CLASSIFICATION1'].value_counts(normalize = True).mul(100).round(2)"
   ]
  },
  {
   "cell_type": "code",
   "execution_count": 110,
   "metadata": {},
   "outputs": [],
   "source": [
    "def mc(size1,size2, choice = 'MC1'):\n",
    "    list1 = data[data['PET_BREED_SIZE_TYPE'] == size1]['PRODUCT_ID'].unique()\n",
    "    list2 = data[data['PET_BREED_SIZE_TYPE'] == size2]['PRODUCT_ID'].unique()\n",
    "    print(\"Number of products of {}: {}\".format(size1,len(list1)))\n",
    "    print(\"Number of products of {}: {}\".format(size2,len(list2)))\n",
    "\n",
    "    common_prod_id = list(set(list1).intersection(list2))\n",
    "    print(\"Number of common products:\",len(common_prod_id))\n",
    "\n",
    "    #list1+list2-2(common_prod_id)\n",
    "    disjoint_prod_id = list(set(list1)^set(list2))\n",
    "    print(\"Number of different products:\",len(disjoint_prod_id))\n",
    "\n",
    "    print(\"\\nCommon product ids\")\n",
    "    if choice == 'MC1':\n",
    "        print(data[(data['PRODUCT_ID'].isin(common_prod_id))]['MERCH_CLASSIFICATION1'].value_counts(normalize = True).mul(100).round(2))\n",
    "    elif choice == 'MC2':\n",
    "        print(data[(data['PRODUCT_ID'].isin(common_prod_id))][['MERCH_CLASSIFICATION1','MERCH_CLASSIFICATION2']].value_counts(normalize = True).mul(100).round(2).sort_index())\n",
    "\n",
    "    print(\"\\nUnique product ids\")\n",
    "    if choice == 'MC1':\n",
    "        print(data[(data['PRODUCT_ID'].isin(disjoint_prod_id))]['MERCH_CLASSIFICATION1'].value_counts(normalize = True).mul(100).round(2))\n",
    "    elif choice == 'MC2':\n",
    "        print(data[(data['PRODUCT_ID'].isin(disjoint_prod_id))][['MERCH_CLASSIFICATION1','MERCH_CLASSIFICATION2']].value_counts(normalize = True).mul(100).round(2).sort_index())"
   ]
  },
  {
   "cell_type": "code",
   "execution_count": 120,
   "metadata": {},
   "outputs": [
    {
     "name": "stdout",
     "output_type": "stream",
     "text": [
      "Number of products of M: 38149\n",
      "Number of products of L: 42583\n",
      "Number of common products: 29692\n",
      "Number of different products: 21348\n",
      "\n",
      "Common product ids\n",
      "MERCH_CLASSIFICATION1  MERCH_CLASSIFICATION2       \n",
      "Consumables            Core Food                       39.83\n",
      "                       Core Treats                     25.10\n",
      "                       Litter                           2.06\n",
      "Gift Cards             Chewy Cash                       0.00\n",
      "                       Digital Gift Cards               0.01\n",
      "                       Promotional Cards                0.16\n",
      "Hard Goods             Apparel & People Products        0.14\n",
      "                       Beauty & Grooming                0.69\n",
      "                       Beds & Furniture                 0.20\n",
      "                       Bowls & Feeders                  0.15\n",
      "                       Containment & Gear               0.22\n",
      "                       Leashes, Collars & Harnesses     0.20\n",
      "                       Personalized                     0.06\n",
      "                       Technology                       0.11\n",
      "                       Toys                             2.26\n",
      "                       Waste Management                 1.72\n",
      "Healthcare             Flea & Tick                      1.39\n",
      "                       Health & Wellness                5.16\n",
      "                       Over the Counter                 0.27\n",
      "                       Pharmacy                         7.07\n",
      "                       Prescription Food & Treats       7.36\n",
      "                       Services                         0.00\n",
      "Premium                Pantry                           3.12\n",
      "                       Perishable                       0.19\n",
      "Specialty              Chicken & Farm                   0.18\n",
      "                       Equine                           0.16\n",
      "                       Fish                             0.21\n",
      "                       Pet Bird                         0.41\n",
      "                       Reptile & Amphibians             0.15\n",
      "                       Small Pet                        1.19\n",
      "                       Wild Bird                        0.23\n",
      "dtype: float64\n",
      "\n",
      "Unique product ids\n",
      "MERCH_CLASSIFICATION1  MERCH_CLASSIFICATION2       \n",
      "Consumables            Core Food                       14.65\n",
      "                       Core Treats                     13.22\n",
      "                       Litter                           1.19\n",
      "Gift Cards             Digital Gift Cards               0.19\n",
      "                       Promotional Cards                0.01\n",
      "Hard Goods             Apparel & People Products        9.64\n",
      "                       Beauty & Grooming                4.54\n",
      "                       Beds & Furniture                 3.11\n",
      "                       Bowls & Feeders                  2.22\n",
      "                       Containment & Gear               3.12\n",
      "                       Leashes, Collars & Harnesses     7.02\n",
      "                       Personalized                     1.22\n",
      "                       Technology                       0.81\n",
      "                       Toys                            10.54\n",
      "                       Waste Management                 3.06\n",
      "Healthcare             Flea & Tick                      1.19\n",
      "                       Health & Wellness                5.11\n",
      "                       Over the Counter                 0.92\n",
      "                       Pharmacy                         1.63\n",
      "                       Prescription Food & Treats       0.34\n",
      "                       Services                         0.00\n",
      "Premium                Pantry                           6.34\n",
      "                       Perishable                       0.13\n",
      "Specialty              Chicken & Farm                   0.87\n",
      "                       Equine                           1.59\n",
      "                       Fish                             2.11\n",
      "                       Pet Bird                         1.26\n",
      "                       Reptile & Amphibians             1.14\n",
      "                       Small Pet                        2.12\n",
      "                       Wild Bird                        0.72\n",
      "Virtual Bundle         Virtual Bundle                   0.00\n",
      "dtype: float64\n"
     ]
    }
   ],
   "source": [
    "mc('M','L','MC2')"
   ]
  },
  {
   "cell_type": "code",
   "execution_count": 71,
   "metadata": {},
   "outputs": [],
   "source": [
    "#data[((data['PET_BREED_SIZE_TYPE'] == 'L') | (data['PET_BREED_SIZE_TYPE'] == 'M')) & (data['PRODUCT_ID'].isin(disjoint_prod_id))]['MERCH_CLASSIFICATION1'].value_counts(normalize = True).mul(100).round(2)\n",
    "#data[((data['PET_BREED_SIZE_TYPE'] == 'L') | (data['PET_BREED_SIZE_TYPE'] == 'M')) & (data['PRODUCT_ID'].isin(disjoint_prod_id))].groupby(['MERCH_CLASSIFICATION1'])['MERCH_CLASSIFICATION2'].value_counts(normalize = True).mul(100).round(2)"
   ]
  },
  {
   "cell_type": "code",
   "execution_count": null,
   "metadata": {},
   "outputs": [],
   "source": []
  }
 ],
 "metadata": {
  "interpreter": {
   "hash": "9d3b513a6284d9ef81d069b8f98081cc20eec4ef823d9f781c1b6966c9e01e63"
  },
  "kernelspec": {
   "display_name": "Python 3.9.4 64-bit ('3.9.4': pyenv)",
   "language": "python",
   "name": "python3"
  },
  "language_info": {
   "codemirror_mode": {
    "name": "ipython",
    "version": 3
   },
   "file_extension": ".py",
   "mimetype": "text/x-python",
   "name": "python",
   "nbconvert_exporter": "python",
   "pygments_lexer": "ipython3",
   "version": "3.9.7"
  },
  "orig_nbformat": 4
 },
 "nbformat": 4,
 "nbformat_minor": 2
}
